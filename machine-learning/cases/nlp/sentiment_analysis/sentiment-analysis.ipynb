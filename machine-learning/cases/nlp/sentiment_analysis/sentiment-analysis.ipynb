{
 "cells": [
  {
   "cell_type": "markdown",
   "metadata": {},
   "source": [
    "A saída da análise de sentimentos é um dicionário com os seguintes campos:\n",
    "\n",
    "- **pos**: porcentagem positiva do texto\n",
    "- **neg**: porcentagem negativa do texto\n",
    "- **neu**: porcentagem neutra do texto\n",
    "- **compound**: valor de sentimento geral normalizado, variando de -1 (extremamente negativo) a +1 (extremamente positivo)  \n",
    "\n",
    "O valor compound pode ser utilizado para descrever o sentimento predominante no texto, por meio dos limites de valores:\n",
    "\n",
    "- **Sentimento positivo**: compound >= 0.05\n",
    "- **Sentimento negativo**: compound <= -0.05\n",
    "- **Sentimento neutro**: (compound > -0.05) and (compound < 0.05)"
   ]
  },
  {
   "cell_type": "code",
   "execution_count": 1,
   "metadata": {},
   "outputs": [
    {
     "data": {
      "text/plain": [
       "{'neg': 0.835, 'neu': 0.165, 'pos': 0.0, 'compound': -0.8442}"
      ]
     },
     "execution_count": 1,
     "metadata": {},
     "output_type": "execute_result"
    }
   ],
   "source": [
    "from sentiment_analysis.leia import SentimentIntensityAnalyzer \n",
    "\n",
    "s = SentimentIntensityAnalyzer()\n",
    "\n",
    "# Análise de texto com negação\n",
    "s.polarity_scores('Vocês não estão nem aí :(')"
   ]
  },
  {
   "cell_type": "markdown",
   "metadata": {},
   "source": [
    "A saída da análise de sentimentos é um dicionário com os seguintes campos:\n",
    "\n",
    "- **pos**: porcentagem positiva do texto\n",
    "- **neg**: porcentagem negativa do texto\n",
    "- **neu**: porcentagem neutra do texto\n",
    "- **compound**: valor de sentimento geral normalizado, variando de -1 (extremamente negativo) a +1 (extremamente positivo)  \n",
    "\n",
    "O valor compound pode ser utilizado para descrever o sentimento predominante no texto, por meio dos limites de valores:\n",
    "\n",
    "- **Sentimento positivo**: compound >= 0.05\n",
    "- **Sentimento negativo**: compound <= -0.05\n",
    "- **Sentimento neutro**: (compound > -0.05) and (compound < 0.05)"
   ]
  },
  {
   "cell_type": "code",
   "execution_count": 2,
   "metadata": {},
   "outputs": [
    {
     "data": {
      "text/plain": [
       "{'neg': 0.255, 'neu': 0.745, 'pos': 0.0, 'compound': -0.8201}"
      ]
     },
     "execution_count": 2,
     "metadata": {},
     "output_type": "execute_result"
    }
   ],
   "source": [
    "s.polarity_scores('Fiz uma transferência bancária na sexta, e na sexta de noite disse que essa transferência foi concluída mas acontece que ainda não caiu na conta')"
   ]
  },
  {
   "cell_type": "markdown",
   "metadata": {},
   "source": [
    "https://github.com/rafjaa/LeIA"
   ]
  },
  {
   "cell_type": "code",
   "execution_count": null,
   "metadata": {},
   "outputs": [],
   "source": []
  }
 ],
 "metadata": {
  "kernelspec": {
   "display_name": "Python 3",
   "language": "python",
   "name": "python3"
  },
  "language_info": {
   "codemirror_mode": {
    "name": "ipython",
    "version": 3
   },
   "file_extension": ".py",
   "mimetype": "text/x-python",
   "name": "python",
   "nbconvert_exporter": "python",
   "pygments_lexer": "ipython3",
   "version": "3.7.7"
  }
 },
 "nbformat": 4,
 "nbformat_minor": 4
}
