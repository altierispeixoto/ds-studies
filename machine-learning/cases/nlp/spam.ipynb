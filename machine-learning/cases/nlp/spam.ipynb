{
 "cells": [
  {
   "cell_type": "code",
   "execution_count": 1,
   "metadata": {},
   "outputs": [
    {
     "name": "stdout",
     "output_type": "stream",
     "text": [
      "Train accuracy: 0.998928475756764\n",
      "Test accuracy: 0.9815116911364872\n"
     ]
    }
   ],
   "source": [
    "## Required packages\n",
    "import random\n",
    "import spacy\n",
    "import pandas as pd\n",
    "import seaborn as sns\n",
    "from spacy.util import minibatch\n",
    "from sklearn.model_selection import train_test_split\n",
    "from sklearn.metrics import accuracy_score\n",
    "from sklearn.metrics import confusion_matrix\n",
    "from matplotlib import pyplot as plt\n",
    "\n",
    "## Paths\n",
    "data_path = \"spam.csv\"\n",
    "\n",
    "## Configurations\n",
    "sns.set(style=\"darkgrid\")\n",
    "\n",
    "## UDF's\n",
    "def train_model(model, train_data, optimizer, batch_size, epochs=10):\n",
    "    losses = {}\n",
    "    random.seed(1)\n",
    "\n",
    "    for epoch in range(epochs):\n",
    "        random.shuffle(train_data)\n",
    "\n",
    "        batches = minibatch(train_data, size=batch_size)\n",
    "        for batch in batches:\n",
    "            # Split batch into texts and labels\n",
    "            texts, labels = zip(*batch)\n",
    "\n",
    "            # Update model with texts and labels\n",
    "            model.update(texts, labels, sgd=optimizer, losses=losses)\n",
    "        # print(\"Loss: {}\".format(losses['textcat']))\n",
    "\n",
    "    return losses['textcat']\n",
    "\n",
    "def get_predictions(model, texts):\n",
    "    # Use the model's tokenizer to tokenize each input text\n",
    "    docs = [model.tokenizer(text) for text in texts]\n",
    "\n",
    "    # Use textcat to get the scores for each doc\n",
    "    textcat = model.get_pipe('textcat')\n",
    "    scores, _ = textcat.predict(docs)\n",
    "\n",
    "    # From the scores, find the label with the highest score/probability\n",
    "    predicted_labels = scores.argmax(axis=1)\n",
    "    predicted_class = [textcat.labels[label] for label in predicted_labels]\n",
    "\n",
    "    return predicted_class\n"
   ]
  },
  {
   "cell_type": "code",
   "execution_count": 3,
   "metadata": {},
   "outputs": [
    {
     "name": "stdout",
     "output_type": "stream",
     "text": [
      "Train accuracy: 0.998928475756764\n",
      "Test accuracy: 0.9815116911364872\n"
     ]
    }
   ],
   "source": [
    "# Load dataset\n",
    "data = pd.read_csv(data_path)\n",
    "observations = len(data.index)\n",
    "# print(\"Dataset Size: {}\".format(observations))\n",
    "\n",
    "# Create an empty spacy model\n",
    "nlp = spacy.blank(\"en\")\n",
    "\n",
    "# Create the TextCategorizer with exclusive classes and \"bow\" architecture\n",
    "text_cat = nlp.create_pipe(\n",
    "              \"textcat\",\n",
    "              config={\n",
    "                \"exclusive_classes\": True,\n",
    "                \"architecture\": \"bow\"})\n",
    "\n",
    "# Adding the TextCategorizer to the created empty model\n",
    "nlp.add_pipe(text_cat)\n",
    "\n",
    "# Add labels to text classifier\n",
    "text_cat.add_label(\"ham\")\n",
    "text_cat.add_label(\"spam\")\n",
    "\n",
    "# Split data into train and test datasets\n",
    "x_train, x_test, y_train, y_test = train_test_split(\n",
    "    data['text'], data['label'], test_size=0.33, random_state=7)\n",
    "\n",
    "# Create the train and test data for the spacy model\n",
    "train_lables = [{'cats': {'ham': label == 'ham',\n",
    "                          'spam': label == 'spam'}}  for label in y_train]\n",
    "test_lables = [{'cats': {'ham': label == 'ham',\n",
    "                      'spam': label == 'spam'}}  for label in y_test]\n",
    "\n",
    "# Spacy model data\n",
    "train_data = list(zip(x_train, train_lables))\n",
    "test_data = list(zip(x_test, test_lables))\n",
    "\n",
    "# Model configurations\n",
    "optimizer = nlp.begin_training()\n",
    "batch_size = 5\n",
    "epochs = 10\n",
    "\n",
    "# Training the model\n",
    "train_model(nlp, train_data, optimizer, batch_size, epochs)\n",
    "\n",
    "# Sample predictions\n",
    "# print(train_data[0])\n",
    "# sample_test = nlp(train_data[0][0])\n",
    "# print(sample_test.cats)\n",
    "\n",
    "# Train and test accuracy\n",
    "train_predictions = get_predictions(nlp, x_train)\n",
    "test_predictions = get_predictions(nlp, x_test)\n",
    "train_accuracy = accuracy_score(y_train, train_predictions)\n",
    "test_accuracy = accuracy_score(y_test, test_predictions)\n",
    "\n",
    "print(\"Train accuracy: {}\".format(train_accuracy))\n",
    "print(\"Test accuracy: {}\".format(test_accuracy))"
   ]
  },
  {
   "cell_type": "code",
   "execution_count": 5,
   "metadata": {},
   "outputs": [
    {
     "data": {
      "text/plain": [
       "<AxesSubplot:>"
      ]
     },
     "execution_count": 5,
     "metadata": {},
     "output_type": "execute_result"
    },
    {
     "data": {
      "image/png": "[encoded data removed]",
      "text/plain": [
       "<Figure size 720x576 with 2 Axes>"
      ]
     },
     "metadata": {},
     "output_type": "display_data"
    },
    {
     "data": {
      "image/png": "[encoded data removed]",
      "text/plain": [
       "<Figure size 720x576 with 2 Axes>"
      ]
     },
     "metadata": {},
     "output_type": "display_data"
    }
   ],
   "source": [
    "# Creating the confusion matrix graphs\n",
    "cf_train_matrix = confusion_matrix(y_train, train_predictions)\n",
    "plt.figure(figsize=(10,8))\n",
    "sns.heatmap(cf_train_matrix, annot=True, fmt='d')\n",
    "\n",
    "cf_test_matrix = confusion_matrix(y_test, test_predictions)\n",
    "plt.figure(figsize=(10,8))\n",
    "sns.heatmap(cf_test_matrix, annot=True, fmt='d')"
   ]
  },
  {
   "cell_type": "code",
   "execution_count": null,
   "metadata": {},
   "outputs": [],
   "source": []
  }
 ],
 "metadata": {
  "kernelspec": {
   "display_name": "Python 3",
   "language": "python",
   "name": "python3"
  },
  "language_info": {
   "codemirror_mode": {
    "name": "ipython",
    "version": 3
   },
   "file_extension": ".py",
   "mimetype": "text/x-python",
   "name": "python",
   "nbconvert_exporter": "python",
   "pygments_lexer": "ipython3",
   "version": "3.7.9"
  }
 },
 "nbformat": 4,
 "nbformat_minor": 4
}
