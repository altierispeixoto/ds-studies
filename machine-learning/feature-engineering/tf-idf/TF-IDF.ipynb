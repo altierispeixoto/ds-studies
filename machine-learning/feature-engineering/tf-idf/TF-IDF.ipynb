{
 "cells": [
  {
   "cell_type": "code",
   "execution_count": 5,
   "metadata": {},
   "outputs": [
    {
     "data": {
      "text/plain": [
       "['and', 'as', 'document', 'first', 'is']"
      ]
     },
     "execution_count": 5,
     "metadata": {},
     "output_type": "execute_result"
    }
   ],
   "source": [
    "from sklearn.feature_extraction.text import TfidfVectorizer\n",
    "\n",
    "corpus = [\n",
    "    'this is the first document pipoca pipoca pipoca',\n",
    "    'this document is the second document pipoca pipoca pipoca',\n",
    "    'and this is the third one pipoca pipoca pipoca',\n",
    "    'as this the first document'\n",
    "]\n",
    "\n",
    "vectorizer = TfidfVectorizer()\n",
    "X = vectorizer.fit_transform(corpus)\n",
    "\n",
    "vectorizer.get_feature_names()[:5]"
   ]
  },
  {
   "cell_type": "code",
   "execution_count": 2,
   "metadata": {},
   "outputs": [
    {
     "data": {
      "text/plain": [
       "array(['and', 'as', 'document', 'first', 'is'], dtype='<U8')"
      ]
     },
     "execution_count": 2,
     "metadata": {},
     "output_type": "execute_result"
    }
   ],
   "source": [
    "import numpy\n",
    "\n",
    "features_array = numpy.array(vectorizer.get_feature_names())\n",
    "features_array[:5]"
   ]
  },
  {
   "cell_type": "code",
   "execution_count": 3,
   "metadata": {},
   "outputs": [],
   "source": [
    "data = X.todense().tolist()"
   ]
  },
  {
   "cell_type": "code",
   "execution_count": 4,
   "metadata": {},
   "outputs": [
    {
     "data": {
      "text/html": [
       "<div>\n",
       "<style scoped>\n",
       "    .dataframe tbody tr th:only-of-type {\n",
       "        vertical-align: middle;\n",
       "    }\n",
       "\n",
       "    .dataframe tbody tr th {\n",
       "        vertical-align: top;\n",
       "    }\n",
       "\n",
       "    .dataframe thead th {\n",
       "        text-align: right;\n",
       "    }\n",
       "</style>\n",
       "<table border=\"1\" class=\"dataframe\">\n",
       "  <thead>\n",
       "    <tr style=\"text-align: right;\">\n",
       "      <th></th>\n",
       "      <th>and</th>\n",
       "      <th>as</th>\n",
       "      <th>document</th>\n",
       "      <th>first</th>\n",
       "      <th>is</th>\n",
       "      <th>one</th>\n",
       "      <th>pipoca</th>\n",
       "      <th>second</th>\n",
       "      <th>the</th>\n",
       "      <th>third</th>\n",
       "      <th>this</th>\n",
       "    </tr>\n",
       "  </thead>\n",
       "  <tbody>\n",
       "    <tr>\n",
       "      <th>0</th>\n",
       "      <td>0.000000</td>\n",
       "      <td>0.000000</td>\n",
       "      <td>0.268583</td>\n",
       "      <td>0.331753</td>\n",
       "      <td>0.268583</td>\n",
       "      <td>0.000000</td>\n",
       "      <td>0.805749</td>\n",
       "      <td>0.000000</td>\n",
       "      <td>0.219584</td>\n",
       "      <td>0.000000</td>\n",
       "      <td>0.219584</td>\n",
       "    </tr>\n",
       "    <tr>\n",
       "      <th>1</th>\n",
       "      <td>0.000000</td>\n",
       "      <td>0.000000</td>\n",
       "      <td>0.474161</td>\n",
       "      <td>0.000000</td>\n",
       "      <td>0.237080</td>\n",
       "      <td>0.000000</td>\n",
       "      <td>0.711241</td>\n",
       "      <td>0.371432</td>\n",
       "      <td>0.193829</td>\n",
       "      <td>0.000000</td>\n",
       "      <td>0.193829</td>\n",
       "    </tr>\n",
       "    <tr>\n",
       "      <th>2</th>\n",
       "      <td>0.362292</td>\n",
       "      <td>0.000000</td>\n",
       "      <td>0.000000</td>\n",
       "      <td>0.000000</td>\n",
       "      <td>0.231246</td>\n",
       "      <td>0.362292</td>\n",
       "      <td>0.693738</td>\n",
       "      <td>0.000000</td>\n",
       "      <td>0.189059</td>\n",
       "      <td>0.362292</td>\n",
       "      <td>0.189059</td>\n",
       "    </tr>\n",
       "    <tr>\n",
       "      <th>3</th>\n",
       "      <td>0.000000</td>\n",
       "      <td>0.623342</td>\n",
       "      <td>0.397871</td>\n",
       "      <td>0.491450</td>\n",
       "      <td>0.000000</td>\n",
       "      <td>0.000000</td>\n",
       "      <td>0.000000</td>\n",
       "      <td>0.000000</td>\n",
       "      <td>0.325285</td>\n",
       "      <td>0.000000</td>\n",
       "      <td>0.325285</td>\n",
       "    </tr>\n",
       "  </tbody>\n",
       "</table>\n",
       "</div>"
      ],
      "text/plain": [
       "        and        as  document     first        is       one    pipoca  \\\n",
       "0  0.000000  0.000000  0.268583  0.331753  0.268583  0.000000  0.805749   \n",
       "1  0.000000  0.000000  0.474161  0.000000  0.237080  0.000000  0.711241   \n",
       "2  0.362292  0.000000  0.000000  0.000000  0.231246  0.362292  0.693738   \n",
       "3  0.000000  0.623342  0.397871  0.491450  0.000000  0.000000  0.000000   \n",
       "\n",
       "     second       the     third      this  \n",
       "0  0.000000  0.219584  0.000000  0.219584  \n",
       "1  0.371432  0.193829  0.000000  0.193829  \n",
       "2  0.000000  0.189059  0.362292  0.189059  \n",
       "3  0.000000  0.325285  0.000000  0.325285  "
      ]
     },
     "execution_count": 4,
     "metadata": {},
     "output_type": "execute_result"
    }
   ],
   "source": [
    "import pandas\n",
    "\n",
    "df = pandas.DataFrame(data, columns=features_array)\n",
    "df"
   ]
  },
  {
   "cell_type": "code",
   "execution_count": 5,
   "metadata": {},
   "outputs": [
    {
     "name": "stdout",
     "output_type": "stream",
     "text": [
      "['document', 'first', 'is', 'the', 'this']\n",
      "['document', 'is', 'second', 'the', 'this']\n",
      "['and', 'is', 'one', 'the', 'third', 'this']\n",
      "['document', 'first', 'the', 'this']\n"
     ]
    }
   ],
   "source": [
    "for i in df.iterrows():\n",
    "    values = i[1].values.tolist()\n",
    "    print([features_array[i] for i, v in enumerate(values) if 0.0 < v < 0.6])"
   ]
  },
  {
   "cell_type": "code",
   "execution_count": null,
   "metadata": {},
   "outputs": [],
   "source": []
  }
 ],
 "metadata": {
  "kernelspec": {
   "display_name": "Python 3",
   "language": "python",
   "name": "python3"
  },
  "language_info": {
   "codemirror_mode": {
    "name": "ipython",
    "version": 3
   },
   "file_extension": ".py",
   "mimetype": "text/x-python",
   "name": "python",
   "nbconvert_exporter": "python",
   "pygments_lexer": "ipython3",
   "version": "3.7.9"
  }
 },
 "nbformat": 4,
 "nbformat_minor": 4
}
